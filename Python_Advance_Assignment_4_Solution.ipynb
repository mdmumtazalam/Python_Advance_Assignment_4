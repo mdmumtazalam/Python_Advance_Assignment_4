{
  "cells": [
    {
      "cell_type": "markdown",
      "id": "fb572b38",
      "metadata": {
        "id": "fb572b38"
      },
      "source": [
        "# Python_Advance_Assignment_4 Solution :-\n",
        "SUBMITTED BY: MD MUMTAZ ALAM"
      ]
    },
    {
      "cell_type": "markdown",
      "id": "6c3336de",
      "metadata": {
        "id": "6c3336de"
      },
      "source": [
        "## Q1. Which two operator overloading methods can you use in your classes to support iteration?"
      ]
    },
    {
      "cell_type": "raw",
      "id": "2f429857",
      "metadata": {
        "id": "2f429857"
      },
      "source": [
        "Ans: \n",
        "__iter__  and __next__ are the operator overloading methods in python that support iteration and are collectively called iterator protocol.\n",
        "\n",
        "1)  __iter__  returns the iterator object and is called at the start of loop in our respective class.\n",
        "\n",
        "2)  __next__ is called at each loop increment, it returns the incremented value. Also Stopiteration is raised when there is no value to return."
      ]
    },
    {
      "cell_type": "code",
      "execution_count": null,
      "id": "4d935fdf",
      "metadata": {
        "id": "4d935fdf",
        "outputId": "f11d9441-b624-456d-9a05-597748b6f2df"
      },
      "outputs": [
        {
          "name": "stdout",
          "output_type": "stream",
          "text": [
            "5 6 7 8 9 10 11 12 13 14 15 16 17 18 19 20 21 22 23 24 25 26 27 28 29 30 31 32 33 34 35 "
          ]
        }
      ],
      "source": [
        "class Counter:\n",
        "    def __init__(self,low,high):\n",
        "        self.current = low\n",
        "        self.high = high\n",
        "    def __iter__(self):\n",
        "        return self\n",
        "    def __next__(self):\n",
        "        if self.current > self.high:\n",
        "            raise StopIteration\n",
        "        else:\n",
        "            self.current += 1\n",
        "            return self.current - 1\n",
        "for ele in Counter(5,35):\n",
        "    print(ele, end=\" \")"
      ]
    },
    {
      "cell_type": "markdown",
      "id": "4eb3e350",
      "metadata": {
        "id": "4eb3e350"
      },
      "source": [
        "## Q2. In what contexts do the two operator overloading methods manage printing?"
      ]
    },
    {
      "cell_type": "raw",
      "id": "35e7858b",
      "metadata": {
        "id": "35e7858b"
      },
      "source": [
        "Ans: __str__ and __repr__ are two operator overloading methods that manage printing.\n",
        "\n",
        "1) The difference between both of these operators is: The goal of __repr__ is to be unambiguous and __str__ is to be readable.\n",
        "\n",
        "2) Whenever we are printing any object reference internally, __str__ method will be called by default.\n",
        "\n",
        "3) The main purpose of __str__ is for readability. It prints the informal string representation of an object, one that is useful for printing the object. It may not be possible to convert result string to original object.\n",
        "\n",
        "4) __repr__ is used to print official string representation of an object, so it includes all information and development."
      ]
    },
    {
      "cell_type": "code",
      "execution_count": null,
      "id": "533c4ee6",
      "metadata": {
        "id": "533c4ee6",
        "outputId": "93e2e45c-fbdb-4d1b-959b-e4a6863b197f"
      },
      "outputs": [
        {
          "name": "stdout",
          "output_type": "stream",
          "text": [
            "<__main__.Student object at 0x00000285FEF86CD0>\n",
            "Student Name: Gaurav and Roll No: 1\n",
            "2023-03-02 16:06:42.702830\n",
            "Unable to convert back to original object\n",
            "datetime.datetime(2023, 3, 2, 16, 6, 42, 702830)\n",
            "2023-03-02 16:06:42.702830\n"
          ]
        }
      ],
      "source": [
        "class Student:\n",
        "    def __init__(self,name,roll_no):\n",
        "        self.name = name\n",
        "        self.roll_no = roll_no\n",
        "        \n",
        "s1 = Student(\"Mano\",1)\n",
        "print(str(s1))\n",
        "\n",
        "class Student:\n",
        "    def __init__(self,name,roll_no):\n",
        "        self.name = name\n",
        "        self.roll_no = roll_no\n",
        "    def __str__(self):\n",
        "        return f'Student Name: {self.name} and Roll No: {self.roll_no}'\n",
        "    \n",
        "s1 = Student(\"Gaurav\",1)\n",
        "print(str(s1))\n",
        "\n",
        "import datetime\n",
        "today = datetime.datetime.now()\n",
        "\n",
        "s = str(today) # converting datetime object to presentable str\n",
        "print(s)\n",
        "try: d = eval(s) # converting str back to datetime object\n",
        "except: print(\"Unable to convert back to original object\")\n",
        "    \n",
        "u = repr(today) # converting datetime object to str\n",
        "print(u)\n",
        "e = eval(u) # converting str back to datetime object\n",
        "print(e)"
      ]
    },
    {
      "cell_type": "markdown",
      "id": "3072e256",
      "metadata": {
        "id": "3072e256"
      },
      "source": [
        "## Q3. In a class, how do you intercept slice operations?"
      ]
    },
    {
      "cell_type": "raw",
      "id": "794bff41",
      "metadata": {
        "id": "794bff41"
      },
      "source": [
        "Ans: \n",
        "\n",
        "In a class use of slice(), __getitem__ method is used for intercept slice operation. This slice method is provided with start integer number, stop integer number and step integer number.\n",
        "\n",
        "Example: __getitem__(slice(start,stop,step))"
      ]
    },
    {
      "cell_type": "markdown",
      "id": "8bd5c90d",
      "metadata": {
        "id": "8bd5c90d"
      },
      "source": [
        "## Q4. In a class, how do you capture in-place addition?"
      ]
    },
    {
      "cell_type": "raw",
      "id": "4c03aa7b",
      "metadata": {
        "id": "4c03aa7b"
      },
      "source": [
        "Ans: \n",
        "\n",
        "a+b is normal addition. Whereas a+=b is inplace addition operation. In this in-place addition a itself will store the value of addition. In a class __iadd__ method is used for this in-place operation"
      ]
    },
    {
      "cell_type": "code",
      "execution_count": null,
      "id": "bf7d1702",
      "metadata": {
        "id": "bf7d1702",
        "outputId": "9105283b-8ba3-4339-c233-6dbef2c85e3f"
      },
      "outputs": [
        {
          "name": "stdout",
          "output_type": "stream",
          "text": [
            "1300\n"
          ]
        }
      ],
      "source": [
        "class Book:\n",
        "    def __init__(self,pages):\n",
        "        self.pages = pages\n",
        "    def __iadd__(self,other):\n",
        "        self.pages += other.pages\n",
        "        return self.pages\n",
        "        \n",
        "b1 = Book(600)\n",
        "b2 = Book(700)\n",
        "b1+=b2\n",
        "print(b1)"
      ]
    },
    {
      "cell_type": "markdown",
      "id": "57ec0a80",
      "metadata": {
        "id": "57ec0a80"
      },
      "source": [
        "## Q5. When is it appropriate to use operator overloading?"
      ]
    },
    {
      "cell_type": "markdown",
      "id": "964c3ebe",
      "metadata": {
        "id": "964c3ebe"
      },
      "source": [
        "#### Ans: \n",
        "Operator overloading is used when we want to use an operator other than its normal operation to have different meaning according to the context required in user defined function."
      ]
    },
    {
      "cell_type": "code",
      "execution_count": null,
      "id": "b670239b",
      "metadata": {
        "id": "b670239b",
        "outputId": "ed0068e3-5fef-484d-cc20-e2174dd9a0a4"
      },
      "outputs": [
        {
          "name": "stdout",
          "output_type": "stream",
          "text": [
            "Total Number of Pages -> 1600\n"
          ]
        }
      ],
      "source": [
        "class Book:\n",
        "    def __init__(self,pages):\n",
        "        self.pages = pages\n",
        "    def __add__(self,other):\n",
        "        return self.pages+other.pages\n",
        "b1 = Book(700)\n",
        "b2 = Book(900)\n",
        "print(f'Total Number of Pages -> {b1+b2}')"
      ]
    },
    {
      "cell_type": "markdown",
      "id": "c9e74c36",
      "metadata": {
        "id": "c9e74c36"
      },
      "source": [
        "# Thank You"
      ]
    }
  ],
  "metadata": {
    "kernelspec": {
      "display_name": "Python 3 (ipykernel)",
      "language": "python",
      "name": "python3"
    },
    "language_info": {
      "codemirror_mode": {
        "name": "ipython",
        "version": 3
      },
      "file_extension": ".py",
      "mimetype": "text/x-python",
      "name": "python",
      "nbconvert_exporter": "python",
      "pygments_lexer": "ipython3",
      "version": "3.9.7"
    },
    "colab": {
      "provenance": []
    }
  },
  "nbformat": 4,
  "nbformat_minor": 5
}